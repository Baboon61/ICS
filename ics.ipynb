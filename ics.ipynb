{
 "cells": [
  {
   "cell_type": "markdown",
   "metadata": {
    "collapsed": true
   },
   "source": [
    "# ICS project"
   ]
  },
  {
   "cell_type": "markdown",
   "metadata": {},
   "source": [
    "## 0) Context"
   ]
  },
  {
   "cell_type": "markdown",
   "metadata": {},
   "source": [
    "Sophie wants to study ChIP-Seq samples from 2 publications (organism = *Mus musculus*, mm9). <br>\n",
    "Each publication as an associated GEO dataset where BIGWIGs are already available. <br>\n",
    "\n",
    "Goal for each sample : <br>\n",
    "*Nb* : Work is done for 4 regions of interest : smu, sgamma1, sgamma3, 3'RR. Sophie expects 3'RR & sgamma1 to respond to activation (but maybe not for the same marks). Sgamma3 should be ~ negative control <br>\n",
    "> - display density tracks. <br>\n",
    "> - report underlying values in spreadsheets. <br>\n",
    "> - add annotations (hs & ls regions, CSReport breakpoints counts). <br>\n",
    "> - highlight up/down marks or differentially expressed marks. <br>"
   ]
  },
  {
   "cell_type": "markdown",
   "metadata": {},
   "source": [
    "## 1) Get inputs"
   ]
  },
  {
   "cell_type": "markdown",
   "metadata": {},
   "source": [
    "Discussion by mail with Seolkyoung Jung, author in the publication\n",
    "\n",
    "Send me resting and stimulated input files via Globus"
   ]
  },
  {
   "cell_type": "markdown",
   "metadata": {},
   "source": [
    "## 2) Get fastq"
   ]
  },
  {
   "cell_type": "markdown",
   "metadata": {},
   "source": [
    "### 2.1) Install aspera"
   ]
  },
  {
   "cell_type": "markdown",
   "metadata": {},
   "source": [
    "https://www.biostars.org/p/325010/"
   ]
  },
  {
   "cell_type": "code",
   "execution_count": null,
   "metadata": {},
   "outputs": [],
   "source": [
    "wget https://download.asperasoft.com/download/sw/connect/3.8.0/ibm-aspera-connect-3.8.0.158555-linux-g2.12-64.tar.gz \n",
    "## Decompress:\n",
    "tar zxvf ibm-aspera-connect-3.8.0.158555-linux-g2.12-64.tar.gz \n",
    "## Make it executable:\n",
    "chmod +x ibm-aspera-connect-3.8.0.158555-linux-g2.12-64.sh\n",
    "## and run the installer:\n",
    "./ibm-aspera-connect-3.8.0.158555-linux-g2.12-64.sh"
   ]
  },
  {
   "cell_type": "markdown",
   "metadata": {},
   "source": [
    "### 2.2) Download fastq"
   ]
  },
  {
   "cell_type": "code",
   "execution_count": null,
   "metadata": {},
   "outputs": [],
   "source": [
    "#Only select Study accession, experiment title and fastq ftp\n",
    "#Remove manually line I don't want\n",
    "\n",
    "awk 'FS=\"\\t\", OFS=\"\\t\" { gsub(\"ftp.sra.ebi.ac.uk\", \"era-fasp@fasp.sra.ebi.ac.uk:\"); print }' PRJNA324130.txt | cut -f3 | awk -F \";\" 'OFS=\"\\n\" {print $1, $2}' | awk NF | awk 'NR > 1, OFS=\"\\n\" {print \"ascp -QT -l 300m -P33001 -i /home/bastien/.aspera/connect/etc/asperaweb_id_dsa.openssh\" \" \" $1 \" .\"}' > download_PRJNA324130.txt\n",
    "\n",
    "awk -F'[;/:]' '{print $10 \"\\t\" $3}' PRJNA324130.txt > metadata_PRJNA324130.txt\n",
    "\n",
    "chmod 755 /home/bastien/.aspera/connect/etc/asperaweb_id_dsa.openssh\n",
    "\n",
    "#Add to bashrc\n",
    "export PATH=$PATH:/home/bastien/.aspera/connect/bin\n",
    "\n",
    "cd /media/sf_raid/Data/ICS/fastq/Data\n",
    "\n",
    "while read LIST; do $LIST; done < ../download_PRJNA324130.txt\n",
    "\n",
    "#Create a metadata marks you want, then rename the files accordingly\n",
    "awk '{system(\"mv \" $1 \".fastq.gz \" $2 \".fastq.gz\")}' < ../metadata_PRJNA324130_marksOnly.txt\n",
    "\n",
    "#Remove by hands the files unrenamed"
   ]
  },
  {
   "cell_type": "markdown",
   "metadata": {},
   "source": [
    "## 3) FastQC"
   ]
  },
  {
   "cell_type": "code",
   "execution_count": null,
   "metadata": {},
   "outputs": [],
   "source": [
    "cd /media/sf_raid/Data/ICS/fastq/Data\n",
    "for file in *; do fastqc $file; done\n",
    "\n",
    "cd /media/sf_raid/Data/ICS/fastq/Input\n",
    "for file in *; do fastqc $file; done"
   ]
  },
  {
   "cell_type": "markdown",
   "metadata": {},
   "source": [
    "## 4) MultiQC"
   ]
  },
  {
   "cell_type": "code",
   "execution_count": null,
   "metadata": {},
   "outputs": [],
   "source": [
    "cd /media/sf_raid/Data/ICS/fastq/Data\n",
    "multiqc -o ../FastQC *zip"
   ]
  },
  {
   "cell_type": "markdown",
   "metadata": {},
   "source": [
    "## 5) Download reference"
   ]
  },
  {
   "cell_type": "code",
   "execution_count": null,
   "metadata": {},
   "outputs": [],
   "source": [
    "cd /media/sf_raid/Data/ICS/fastq/index\n",
    "wget ftp://ftp.ebi.ac.uk/pub/databases/gencode/Gencode_mouse/release_M19/GRCm38.primary_assembly.genome.fa.gz\n",
    "#wget ftp://ftp.ebi.ac.uk/pub/databases/gencode/Gencode_mouse/release_M19/gencode.vM19.primary_assembly.annotation.gtf.gz\n",
    "#Upload on genotoul"
   ]
  },
  {
   "cell_type": "markdown",
   "metadata": {},
   "source": [
    "## 6) BWA Index"
   ]
  },
  {
   "cell_type": "code",
   "execution_count": null,
   "metadata": {},
   "outputs": [],
   "source": [
    "$bwa/bwa index -a bwtsw $ics/Index/GRCm38.primary_assembly.genome.fa"
   ]
  },
  {
   "cell_type": "markdown",
   "metadata": {},
   "source": [
    "## 7) BWA Alignment"
   ]
  },
  {
   "cell_type": "code",
   "execution_count": null,
   "metadata": {},
   "outputs": [],
   "source": [
    "for id in 'aB_wt_H3K9me2' 'rB_wt_ChIP_input' 'rB_wt_H3K36me3'; do\n",
    "$bwa/bwa mem -t $nt -M $ics/Index/GRCm38.primary_assembly.genome.fa $ics/Data/$id.fastq.gz > $ics/Data/Aligned/$id.sam\n",
    "$samtools/samtools view -Sb $ics/Data/Aligned/$id.sam $ics/Data/Aligned/$id.bam\n",
    "$samtools/samtools sort $ics/Data/Aligned/$id.sam > $ics/Data/Aligned/$id.bam\n",
    "$samtools/samtools index $ics/Data/Aligned/$id.bam\n",
    "rm $ics/Data/Aligned/$id.sam\n",
    "done;"
   ]
  },
  {
   "cell_type": "markdown",
   "metadata": {},
   "source": [
    "## 8) Install Anaconda"
   ]
  },
  {
   "cell_type": "code",
   "execution_count": null,
   "metadata": {},
   "outputs": [],
   "source": [
    "#Install Anaconda\n",
    "#https://www.anaconda.com/download/\n",
    "bash Miniconda3-latest-Linux-x86_64.sh\n",
    "\n",
    "#Conda in bashrc\n",
    "export PATH=\"/home/bastien/anaconda3/bin/:$PATH\"\n",
    "\n",
    "#Install misopy\n",
    "conda install -c bioconda macs2\n",
    "\n",
    "#Set python 2.7 env\n",
    "conda create -n python2 python=2.7 anaconda\n",
    "source activate python2\n",
    "#source desactivate"
   ]
  },
  {
   "cell_type": "markdown",
   "metadata": {},
   "source": [
    "## 9) Coverage normalized"
   ]
  },
  {
   "cell_type": "code",
   "execution_count": null,
   "metadata": {},
   "outputs": [],
   "source": [
    "# OTHER TESTS\n",
    "\n",
    "cd /media/sf_raid/Data/ICS/\n",
    "mkdir bedgraph_normalized\n",
    "#RPGC = reads per genomic content (1x normalization); Mapped reads are considered after blacklist filtering\n",
    "#RPGC (per bin) = number of reads per bin / scaling factor for 1x average coverage.\n",
    "#This scaling factor, in turn, is determined from the sequencing depth:\n",
    "#(total number of mapped reads * fragment length) / effective genome size\n",
    "#The scaling factor used is the inverse of the sequencing depth computed for the sample to match the 1x coverage\n",
    "# This option requires --effectiveGenomeSize.\n",
    "\n",
    "for file in aligned/*.bam; do\n",
    "bamCoverage --bam $file --binSize 100 --outFileName bedgraph_normalized/$(basename ${file%%.*}).normalized.bdg --outFileFormat bedgraph --region chr12 --normalizeUsing RPGC --effectiveGenomeSize 2652783500 --ignoreDuplicates\n",
    "done;"
   ]
  },
  {
   "cell_type": "markdown",
   "metadata": {},
   "source": [
    "## 10) Mean standard deviation plot"
   ]
  },
  {
   "cell_type": "code",
   "execution_count": null,
   "metadata": {},
   "outputs": [],
   "source": [
    "cd /media/sf_raid/Data/ICS/\n",
    "\n",
    "paste bedgraph_normalized/*.bdg | awk 'FS=OFS=\"\\t\"{printf $1\"_\"$2\"_\"$3; for (i=4; i <= NF; i+=4) printf(\"\\t\"$i); print FL }' > merged.normalized.bdg\n",
    "mv merged.normalized.bdg bedgraph_normalized/\n",
    "sed -i '1s/^/\\taB24h_wt_ChIP_input\\taB_wt_H2AZ\\taB_wt_H3K27Ac\\taB_wt_H3K36me1\\taB_wt_H3K36me2\\taB_wt_H3K36me3\\taB_wt_H3K4me1\\taB_wt_H3K4me3\\taB_wt_H3K9me1\\taB_wt_H3K9me2\\taB_wt_H3K9me3\\taB_wt_H4K16Ac\\taB_wt_H4K20me1\\taB_wt_H4K20me3\\trB_wt_ChIP_input\\trB_wt_H2AZ\\trB_wt_H3K27Ac\\trB_wt_H3K36me1\\trB_wt_H3K36me2\\trB_wt_H3K36me3\\trB_wt_H3K4me1\\trB_wt_H3K4me3\\trB_wt_H3K9me1\\trB_wt_H3K9me2\\trB_wt_H3K9me3\\trB_wt_H4K16Ac\\trB_wt_H4K20me1\\trB_wt_H4K20me3\\n/' bedgraph_normalized/merged.normalized.bdg\n",
    "echo -e '\\tcondition\\ttype\\naB24h_wt_ChIP_input\\ttreated\\tsingle-read\\naB_wt_H2AZ\\ttreated\\tsingle-read\\naB_wt_H3K27Ac\\ttreated\\tsingle-read\\naB_wt_H3K36me1\\ttreated\\tsingle-read\\naB_wt_H3K36me2\\ttreated\\tsingle-read\\naB_wt_H3K36me3\\ttreated\\tsingle-read\\naB_wt_H3K4me1\\ttreated\\tsingle-read\\naB_wt_H3K4me3\\ttreated\\tsingle-read\\naB_wt_H3K9me1\\ttreated\\tsingle-read\\naB_wt_H3K9me2\\ttreated\\tsingle-read\\naB_wt_H3K9me3\\ttreated\\tsingle-read\\naB_wt_H4K16Ac\\ttreated\\tsingle-read\\naB_wt_H4K20me1\\ttreated\\tsingle-read\\naB_wt_H4K20me3\\ttreated\\tsingle-read\\nrB_wt_ChIP_input\\tuntreated\\tsingle-read\\nrB_wt_H2AZ\\tuntreated\\tsingle-read\\nrB_wt_H3K27Ac\\tuntreated\\tsingle-read\\nrB_wt_H3K36me1\\tuntreated\\tsingle-read\\nrB_wt_H3K36me2\\tuntreated\\tsingle-read\\nrB_wt_H3K36me3\\tuntreated\\tsingle-read\\nrB_wt_H3K4me1\\tuntreated\\tsingle-read\\nrB_wt_H3K4me3\\tuntreated\\tsingle-read\\nrB_wt_H3K9me1\\tuntreated\\tsingle-read\\nrB_wt_H3K9me2\\tuntreated\\tsingle-read\\nrB_wt_H3K9me3\\tuntreated\\tsingle-read\\nrB_wt_H4K16Ac\\tuntreated\\tsingle-read\\nrB_wt_H4K20me1\\tuntreated\\tsingle-read\\nrB_wt_H4K20me3\\tuntreated\\tsingle-read' > bedgraph_normalized/design_MA_plot.txt\n",
    "\n",
    "mkdir bed_high_coverage\n",
    "mkdir meanSDplot\n",
    "/media/sf_raid/Projects/ICS/meanSDplot.R"
   ]
  },
  {
   "cell_type": "markdown",
   "metadata": {},
   "source": [
    "## 11) High counts bam files"
   ]
  },
  {
   "cell_type": "code",
   "execution_count": null,
   "metadata": {},
   "outputs": [],
   "source": [
    "cd /media/sf_raid/Data/ICS/\n",
    "sed -i 's/\"//g;s/_/\\t/g' bed_high_coverage/*.bed\n",
    "\n",
    "mkdir aligned_best\n",
    "\n",
    "for file in bed_high_coverage/*.bed; do\n",
    "bedtools intersect -abam aligned/aB_wt_$(basename ${file%%.*}).bam -b $file > aligned_best/aB_wt_$(basename ${file%%.*}).bam;\n",
    "bedtools intersect -abam aligned/rB_wt_$(basename ${file%%.*}).bam -b $file > aligned_best/rB_wt_$(basename ${file%%.*}).bam;\n",
    "done;"
   ]
  },
  {
   "cell_type": "markdown",
   "metadata": {},
   "source": [
    "## 12) Peak calling"
   ]
  },
  {
   "cell_type": "code",
   "execution_count": null,
   "metadata": {},
   "outputs": [],
   "source": [
    "cd /media/sf_raid/Data/ICS/\n",
    "mkdir peakcall\n",
    "\n",
    "#Sharp peaks\n",
    "for mark in 'H2AZ' 'H3K4me3' 'H3K27Ac' 'H3K36me2' 'H4K16Ac' 'H4K20me3'; do\n",
    "macs2 callpeak -t aligned_best/aB_wt_$mark.bam -c aligned/aB24h_wt_ChIP_input.bam -g mm --outdir peakcall --nomodel --extsize 147 --mfold 5 50 -B -n aB_wt_$mark\n",
    "macs2 callpeak -t aligned_best/rB_wt_$mark.bam -c aligned/rB_wt_ChIP_input.bam -g mm --outdir peakcall --nomodel --extsize 147 --mfold 5 50 -B -n rB_wt_$mark\n",
    "done;\n",
    "\n",
    "#Broad peaks\n",
    "for mark in 'H3K4me1' 'H3K9me1' 'H3K9me2' 'H3K9me3' 'H3K36me1' 'H3K36me3' 'H4K20me1'; do\n",
    "macs2 callpeak --broad -t aligned_best/aB_wt_$mark.bam -c aligned/aB24h_wt_ChIP_input.bam -g mm --outdir peakcall --nomodel --extsize 147 --mfold 5 50 -B -n aB_wt_$mark\n",
    "macs2 callpeak --broad -t aligned_best/rB_wt_$mark.bam -c aligned/rB_wt_ChIP_input.bam -g mm --outdir peakcall --nomodel --extsize 147 --mfold 5 50 -B -n rB_wt_$mark\n",
    "done;"
   ]
  },
  {
   "cell_type": "markdown",
   "metadata": {},
   "source": [
    "## 13) Normalization & Differential"
   ]
  },
  {
   "cell_type": "code",
   "execution_count": null,
   "metadata": {},
   "outputs": [],
   "source": [
    "cd /media/sf_raid/Data/ICS/\n",
    "mkdir bdgdiff\n",
    "cd aligned\n",
    "# Get the number of mapped reads\n",
    "for file in *.bam; do echo $file; samtools view -F 0x904 -c $file; done;\n",
    "#aB24h_wt_ChIP_input.bam\n",
    "#27087847\n",
    "#aB_wt_H2AZ.bam\n",
    "#42559264\n",
    "#aB_wt_H3K27Ac.bam\n",
    "#27207808\n",
    "#aB_wt_H3K36me1.bam\n",
    "#41781293\n",
    "#aB_wt_H3K36me2.bam\n",
    "#47105589\n",
    "#aB_wt_H3K36me3.bam\n",
    "#50091682\n",
    "#aB_wt_H3K4me1.bam\n",
    "#7569095\n",
    "#aB_wt_H3K4me3.bam\n",
    "#16968946\n",
    "#aB_wt_H3K9me1.bam\n",
    "#41801665\n",
    "#aB_wt_H3K9me2.bam\n",
    "#67600519\n",
    "#aB_wt_H3K9me3.bam\n",
    "#106257991\n",
    "#aB_wt_H4K16Ac.bam\n",
    "#51951324\n",
    "#aB_wt_H4K20me1.bam\n",
    "#21442330\n",
    "#aB_wt_H4K20me3.bam\n",
    "#33188484\n",
    "#rB_wt_ChIP_input.bam\n",
    "#24613767\n",
    "#rB_wt_H2AZ.bam\n",
    "#27689824\n",
    "#rB_wt_H3K27Ac.bam\n",
    "#27349088\n",
    "#rB_wt_H3K36me1.bam\n",
    "#38353446\n",
    "#rB_wt_H3K36me2.bam\n",
    "#40007633\n",
    "#rB_wt_H3K36me3.bam\n",
    "#66656791\n",
    "#rB_wt_H3K4me1.bam\n",
    "#6048520\n",
    "#rB_wt_H3K4me3.bam\n",
    "#17356485\n",
    "#rB_wt_H3K9me1.bam\n",
    "#58926859\n",
    "#rB_wt_H3K9me2.bam\n",
    "#49074294\n",
    "#rB_wt_H3K9me3.bam\n",
    "#53740072\n",
    "#rB_wt_H4K16Ac.bam\n",
    "#38216075\n",
    "#rB_wt_H4K20me1.bam\n",
    "#46179820\n",
    "#rB_wt_H4K20me3.bam\n",
    "#42349510\n",
    "\n",
    "#Sharp peaks\n",
    "#'H2AZ' 'H3K4me3' 'H3K27Ac' 'H3K36me2' 'H4K16Ac' 'H4K20me3'\n",
    "macs2 bdgdiff --t1 peakcall/aB_wt_H2AZ_treat_pileup.bdg --t2 peakcall/rB_wt_H2AZ_treat_pileup.bdg --c1 peakcall/aB_wt_H2AZ_control_lambda.bdg --c2 peakcall/rB_wt_H2AZ_control_lambda.bdg --d1 42559264 --d2 27689824 --min-len 150 --max-gap 100 --outdir bdgdiff -o aB_wt_H2AZ.diff.bdg rB_wt_H2AZ.diff.bdg common_wt_H2AZ.diff.bdg\n",
    "macs2 bdgdiff --t1 peakcall/aB_wt_H3K4me3_treat_pileup.bdg --t2 peakcall/rB_wt_H3K4me3_treat_pileup.bdg --c1 peakcall/aB_wt_H3K4me3_control_lambda.bdg --c2 peakcall/rB_wt_H3K4me3_control_lambda.bdg --d1 16968946 --d2 17356485 --min-len 150 --max-gap 100 --outdir bdgdiff -o aB_wt_H3K4me3.diff.bdg rB_wt_H3K4me3.diff.bdg common_wt_H3K4me3.diff.bdg\n",
    "macs2 bdgdiff --t1 peakcall/aB_wt_H3K27Ac_treat_pileup.bdg --t2 peakcall/rB_wt_H3K27Ac_treat_pileup.bdg --c1 peakcall/aB_wt_H3K27Ac_control_lambda.bdg --c2 peakcall/rB_wt_H3K27Ac_control_lambda.bdg --d1 27207808 --d2 27349088 --min-len 150 --max-gap 100 --outdir bdgdiff -o aB_wt_H3K27Ac.diff.bdg rB_wt_H3K27Ac.diff.bdg common_wt_H3K27Ac.diff.bdg\n",
    "macs2 bdgdiff --t1 peakcall/aB_wt_H3K36me2_treat_pileup.bdg --t2 peakcall/rB_wt_H3K36me2_treat_pileup.bdg --c1 peakcall/aB_wt_H3K36me2_control_lambda.bdg --c2 peakcall/rB_wt_H3K36me2_control_lambda.bdg --d1 47105589 --d2 40007633 --min-len 150 --max-gap 100 --outdir bdgdiff -o aB_wt_H3K36me2.diff.bdg rB_wt_H3K36me2.diff.bdg common_wt_H3K36me2.diff.bdg\n",
    "macs2 bdgdiff --t1 peakcall/aB_wt_H4K16Ac_treat_pileup.bdg --t2 peakcall/rB_wt_H4K16Ac_treat_pileup.bdg --c1 peakcall/aB_wt_H4K16Ac_control_lambda.bdg --c2 peakcall/rB_wt_H4K16Ac_control_lambda.bdg --d1 51951324 --d2 38216075 --min-len 150 --max-gap 100 --outdir bdgdiff -o aB_wt_H4K16Ac.diff.bdg rB_wt_H4K16Ac.diff.bdg common_wt_H4K16Ac.diff.bdg\n",
    "macs2 bdgdiff --t1 peakcall/aB_wt_H4K20me3_treat_pileup.bdg --t2 peakcall/rB_wt_H4K20me3_treat_pileup.bdg --c1 peakcall/aB_wt_H4K20me3_control_lambda.bdg --c2 peakcall/rB_wt_H4K20me3_control_lambda.bdg --d1 33188484 --d2 42349510 --min-len 150 --max-gap 100 --outdir bdgdiff -o aB_wt_H4K20me3.diff.bdg rB_wt_H4K20me3.diff.bdg common_wt_H4K20me3.diff.bdg\n",
    "\n",
    "\n",
    "#broad peaks\n",
    "# 'H3K4me1' 'H3K9me1' 'H3K9me2' 'H3K9me3' 'H3K36me1' 'H3K36me3' 'H4K20me1'\n",
    "macs2 bdgdiff --t1 peakcall/aB_wt_H3K4me1_treat_pileup.bdg --t2 peakcall/rB_wt_H3K4me1_treat_pileup.bdg --c1 peakcall/aB_wt_H3K4me1_control_lambda.bdg --c2 peakcall/rB_wt_H3K4me1_control_lambda.bdg --d1 7569095 --d2 6048520 --min-len 400 --max-gap 100 --outdir bdgdiff -o aB_wt_H3K4me1.diff.bdg rB_wt_H3K4me1.diff.bdg common_wt_H3K4me1.diff.bdg\n",
    "macs2 bdgdiff --t1 peakcall/aB_wt_H3K9me1_treat_pileup.bdg --t2 peakcall/rB_wt_H3K9me1_treat_pileup.bdg --c1 peakcall/aB_wt_H3K9me1_control_lambda.bdg --c2 peakcall/rB_wt_H3K9me1_control_lambda.bdg --d1 41801665 --d2 58926859 --min-len 400 --max-gap 100 --outdir bdgdiff -o aB_wt_H3K9me1.diff.bdg rB_wt_H3K9me1.diff.bdg common_wt_H3K9me1.diff.bdg\n",
    "macs2 bdgdiff --t1 peakcall/aB_wt_H3K9me2_treat_pileup.bdg --t2 peakcall/rB_wt_H3K9me2_treat_pileup.bdg --c1 peakcall/aB_wt_H3K9me2_control_lambda.bdg --c2 peakcall/rB_wt_H3K9me2_control_lambda.bdg --d1 67600519 --d2 49074294 --min-len 400 --max-gap 100 --outdir bdgdiff -o aB_wt_H3K9me2.diff.bdg rB_wt_H3K9me2.diff.bdg common_wt_H3K9me2.diff.bdg\n",
    "macs2 bdgdiff --t1 peakcall/aB_wt_H3K9me3_treat_pileup.bdg --t2 peakcall/rB_wt_H3K9me3_treat_pileup.bdg --c1 peakcall/aB_wt_H3K9me3_control_lambda.bdg --c2 peakcall/rB_wt_H3K9me3_control_lambda.bdg --d1 106257991 --d2 53740072 --min-len 400 --max-gap 100 --outdir bdgdiff -o aB_wt_H3K9me3.diff.bdg rB_wt_H3K9me3.diff.bdg common_wt_H3K9me3.diff.bdg\n",
    "macs2 bdgdiff --t1 peakcall/aB_wt_H3K36me1_treat_pileup.bdg --t2 peakcall/rB_wt_H3K36me1_treat_pileup.bdg --c1 peakcall/aB_wt_H3K36me1_control_lambda.bdg --c2 peakcall/rB_wt_H3K36me1_control_lambda.bdg --d1 41781293 --d2 38353446 --min-len 400 --max-gap 100 --outdir bdgdiff -o aB_wt_H3K36me1.diff.bdg rB_wt_H3K36me1.diff.bdg common_wt_H3K36me1.diff.bdg\n",
    "macs2 bdgdiff --t1 peakcall/aB_wt_H3K36me3_treat_pileup.bdg --t2 peakcall/rB_wt_H3K36me3_treat_pileup.bdg --c1 peakcall/aB_wt_H3K36me3_control_lambda.bdg --c2 peakcall/rB_wt_H3K36me3_control_lambda.bdg --d1 50091682 --d2 66656791 --min-len 400 --max-gap 100 --outdir bdgdiff -o aB_wt_H3K36me3.diff.bdg rB_wt_H3K36me3.diff.bdg common_wt_H3K36me3.diff.bdg\n",
    "macs2 bdgdiff --t1 peakcall/aB_wt_H4K20me1_treat_pileup.bdg --t2 peakcall/rB_wt_H4K20me1_treat_pileup.bdg --c1 peakcall/aB_wt_H4K20me1_control_lambda.bdg --c2 peakcall/rB_wt_H4K20me1_control_lambda.bdg --d1 21442330 --d2 46179820 --min-len 400 --max-gap 100 --outdir bdgdiff -o aB_wt_H4K20me1.diff.bdg rB_wt_H4K20me1.diff.bdg common_wt_H4K20me1.diff.bdg\n",
    "\n",
    "#Remove header and some column to be display on IGV\n",
    "cd /media/sf_raid/Data/ICS\n",
    "for file in bdgdiff/*; do\n",
    "#Remove header (NH - No Header)\n",
    "tail -n +2 $file > bdgdiff/NH_$(basename $file);\n",
    "#Prepare to visualize\n",
    "awk '{print $1\"\\t\"$2\"\\t\"$3\"\\t\"$5}' bdgdiff/NH_$(basename $file) > bdgdiff/BED_NH_$(basename $file);\n",
    "done;"
   ]
  },
  {
   "cell_type": "markdown",
   "metadata": {},
   "source": [
    "## 14) Check locus"
   ]
  },
  {
   "cell_type": "code",
   "execution_count": null,
   "metadata": {},
   "outputs": [],
   "source": [
    "#chr12\t113363298\t113365156\tgamma3\n",
    "#chr12\t113330756\t113338695\tgamma1\n",
    "#chr12\t113423027\t113426676\tSmu\n",
    "#chr12\t113225832\t113255223\t3'RR\n",
    "\n",
    "#Split peaks by locis\n",
    "cd /media/sf_raid/Data/ICS/\n",
    "mkdir peaks_locus\n",
    "#Minus/Plus 1000 bases to catch peaks in promoters...\n",
    "for file in bdgdiff/BED_NH_*; do\n",
    "echo -e \"chr12\\t113362298\\t113366156\\tgamma3\" | bedtools intersect -a $file -b - -nonamecheck > peaks_locus/$(basename ${file%%.*})_Sg3.locus.diff.bdg | cut -c8-;\n",
    "echo -e \"chr12\\t113329756\\t113339695\\tgamma1\" | bedtools intersect -a $file -b - -nonamecheck > peaks_locus/$(basename ${file%%.*})_Sg1.locus.diff.bdg | cut -c8-;\n",
    "echo -e \"chr12\\t113422027\\t113427676\\tSmu\" | bedtools intersect -a $file -b - -nonamecheck > peaks_locus/$(basename ${file%%.*})_Smu.locus.diff.bdg | cut -c8-;\n",
    "echo -e \"chr12\\t113224832\\t113256223\\t3RR\" | bedtools intersect -a $file -b - -nonamecheck > peaks_locus/$(basename ${file%%.*})_3RR.locus.diff.bdg | cut -c8-;\n",
    "done;\n",
    "\n",
    "python /media/sf_raid/Projects/ICS/final_table.py -r peaks_locus -o final_table.csv"
   ]
  },
  {
   "cell_type": "markdown",
   "metadata": {},
   "source": [
    "## 15) Fold change per region"
   ]
  },
  {
   "cell_type": "code",
   "execution_count": null,
   "metadata": {},
   "outputs": [],
   "source": [
    "cd /media/sf_raid/Data/ICS/\n",
    "for file in aligned/*.bam; do\n",
    "TmpScale=$(bc <<< \"scale=6;10000000/$(samtools view -F 0x904 -c $file)\");\n",
    "nbReadsMapped=$(samtools view $file chr12:113362298-113366156 | wc -l);\n",
    "echo -e \"$(basename ${file%.*})\\tSgamma3\\t$(bc <<<$nbReadsMapped*$TmpScale)\" >> reads_mapped_regions_normalized.txt;\n",
    "nbReadsMapped=$(samtools view $file chr12:113329756-113339695 | wc -l);\n",
    "echo -e \"$(basename ${file%.*})\\tSgamma1\\t$(bc <<<$nbReadsMapped*$TmpScale)\" >> reads_mapped_regions_normalized.txt;\n",
    "nbReadsMapped=$(samtools view $file chr12:113422027-113427676 | wc -l);\n",
    "echo -e \"$(basename ${file%.*})\\tSmu\\t$(bc <<<$nbReadsMapped*$TmpScale)\" >> reads_mapped_regions_normalized.txt;\n",
    "nbReadsMapped=$(samtools view $file chr12:113224832-113256223 | wc -l);\n",
    "echo -e \"$(basename ${file%.*})\\t3RR\\t$(bc <<<$nbReadsMapped*$TmpScale)\" >> reads_mapped_regions_normalized.txt;\n",
    "done;\n",
    "\n",
    "mkdir FC_plot\n",
    "./media/sf_raid/Projects/ICS/FCplot.R"
   ]
  }
 ],
 "metadata": {
  "anaconda-cloud": {},
  "kernelspec": {
   "display_name": "Bash",
   "language": "bash",
   "name": "bash"
  },
  "language_info": {
   "codemirror_mode": "shell",
   "file_extension": ".sh",
   "mimetype": "text/x-sh",
   "name": "bash"
  }
 },
 "nbformat": 4,
 "nbformat_minor": 1
}
